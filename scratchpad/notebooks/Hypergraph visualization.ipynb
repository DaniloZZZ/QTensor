{
 "cells": [
  {
   "cell_type": "code",
   "execution_count": 58,
   "id": "5d7c47fe",
   "metadata": {},
   "outputs": [],
   "source": [
    "import matplotlib.pyplot as plt\n",
    "import qtensor\n",
    "import networkx as nx\n",
    "import numpy as np\n",
    "from qtensor.optimisation.kahypar_ordering import generate_TN as TN"
   ]
  },
  {
   "cell_type": "code",
   "execution_count": 116,
   "id": "611da470",
   "metadata": {},
   "outputs": [],
   "source": [
    "def hg2graph_star(hg: TN.Hypergraph):\n",
    "    graph = nx.DiGraph()\n",
    "    verts = sum(hg.values(), [])\n",
    "    for iedge, edge in hg.items():\n",
    "        if iedge in verts:\n",
    "            raise Exception(f'Edge has same label as vertex: {iedge}')\n",
    "            \n",
    "        if len(edge)==1:\n",
    "            continue\n",
    "            \n",
    "        if len(edge) == 2:\n",
    "            graph.add_edge(*edge)\n",
    "            graph.add_edge(*reversed(edge))\n",
    "            continue\n",
    "            \n",
    "        for vertex in edge:\n",
    "            graph.add_edge(iedge, vertex)\n",
    "            \n",
    "    return graph\n",
    "        \n",
    "def hg2graph_triangle(hg: TN.Hypergraph):\n",
    "    import itertools\n",
    "    graph = nx.Graph()\n",
    "    verts = sum(hg.values(), [])\n",
    "    for iedge, edge in hg.items():\n",
    "        for u, v in itertools.product(edge, edge):\n",
    "            if u>v:\n",
    "                graph.add_edge(u, v)\n",
    "    return graph"
   ]
  },
  {
   "cell_type": "code",
   "execution_count": 170,
   "id": "77335b0e",
   "metadata": {},
   "outputs": [],
   "source": [
    "p = 3\n",
    "g = qtensor.toolbox.bethe_graph(p, degree=3)\n",
    "g = nx.path_graph(11)\n",
    "comp = qtensor.DefaultQAOAComposer(g, gamma=[.1]*p, beta=[.2]*p)\n",
    "comp.energy_expectation_lightcone((5, 6))\n",
    "hg = TN.circ2tn(comp.circuit)\n"
   ]
  },
  {
   "cell_type": "code",
   "execution_count": 344,
   "id": "43b4fbcb",
   "metadata": {},
   "outputs": [],
   "source": [
    "def draw_hypergraph(hg, with_labels=False):\n",
    "    g_triangle = hg2graph_triangle(hg)\n",
    "    g_star = hg2graph_star(hg)\n",
    "    \n",
    "    pos = nx.kamada_kawai_layout(g_triangle)\n",
    "    node_sizes = [ 60 if x in hg.keys() else 30 for x in g_star.nodes ]\n",
    "    node_colors = [ 'yellow' if x in hg.keys() else 'blue' for x in g_star.nodes ]\n",
    "\n",
    "    for edge_v, edge in hg.items():\n",
    "        pp = [pos[v] for v in edge]\n",
    "        edge_pos = np.mean(pp, axis=0)\n",
    "        pos[edge_v] = edge_pos\n",
    "\n",
    "    nx.draw_networkx_nodes(g_star, pos, node_size=node_sizes, node_color=node_colors)\n",
    "    if with_labels:\n",
    "        nx.draw_networkx_labels(g_star, pos)\n",
    "    x = nx.draw_networkx_edges(g_star, pos, arrowstyle='wedge', node_size=node_sizes)"
   ]
  },
  {
   "cell_type": "code",
   "execution_count": 345,
   "id": "e5a70aa3",
   "metadata": {},
   "outputs": [
    {
     "data": {
      "image/png": "[encoded data removed]",
      "text/plain": [
       "<Figure size 432x288 with 1 Axes>"
      ]
     },
     "metadata": {},
     "output_type": "display_data"
    }
   ],
   "source": [
    "draw_hypergraph(hg)"
   ]
  },
  {
   "cell_type": "code",
   "execution_count": null,
   "id": "e2acc3a4",
   "metadata": {},
   "outputs": [],
   "source": []
  },
  {
   "cell_type": "code",
   "execution_count": null,
   "id": "8283e5f6",
   "metadata": {},
   "outputs": [],
   "source": []
  },
  {
   "cell_type": "markdown",
   "id": "b92d83cd",
   "metadata": {},
   "source": [
    "---"
   ]
  },
  {
   "cell_type": "code",
   "execution_count": 395,
   "id": "95b994a8",
   "metadata": {},
   "outputs": [],
   "source": [
    "from qtree import optimizer as opt\n",
    "\n",
    "def get_data_zz(gamma):\n",
    "    builder = qtensor.QtreeBuilder\n",
    "    \n",
    "    gate = builder.operators.ZZ(0, 1, alpha=2*gamma)\n",
    "    return gate.gen_tensor()\n",
    "\n",
    "def get_data_x(beta):\n",
    "    builder = qtensor.QtreeBuilder\n",
    "    \n",
    "    gate = builder.operators.XPhase(0, alpha=2*beta)\n",
    "    return gate.gen_tensor()\n",
    "\n",
    "\n",
    "def get_tn(p, gamma, beta):\n",
    "    tensors = []\n",
    "    mid_end = 2*(p-1) + 1\n",
    "    mid_out = mid_end + (p-1) + 1\n",
    "    out_vars = [opt.Var(i, size=2, name=f'o_{i}') for i in range(mid_out, mid_out+2)]\n",
    "    mid_vars = [opt.Var(p, size=2, name=f'v_{p}')]*2\n",
    "    tensors.append(\n",
    "        opt.Tensor('ZZ', indices=(out_vars[0], mid_vars[0]), data=get_data_zz(gamma[p-1]) )\n",
    "    )\n",
    "    tensors.append(\n",
    "        opt.Tensor('ZZ+', indices=(out_vars[1], mid_vars[0]), data=get_data_zz(gamma[p-1]).T.conjugate())\n",
    "    )\n",
    "    for i in range(1, p):\n",
    "        \n",
    "        \n",
    "        out_vars += [opt.Var(i, size=2, name=f'o_{i}') for i in\n",
    "                     [mid_end + p-i,  mid_end + 2*p - p+1+i]\n",
    "                    ]\n",
    "        mid_vars += [opt.Var(i, size=2, name=f'v_{i}') for i in \n",
    "                     [p-i, p-i+2*i]\n",
    "                    ]\n",
    "        print('mid var', mid_vars)\n",
    "        print('oupt var', out_vars)\n",
    "        tensors.append(\n",
    "            opt.Tensor('X', indices=(mid_vars[-3], mid_vars[-1]), data=get_data_x(beta[p-i]) )\n",
    "        )\n",
    "        tensors.append(\n",
    "            opt.Tensor('X+', indices=(mid_vars[-4], mid_vars[-2]), data=get_data_x(beta[p-i]).T.conjugate() )\n",
    "        )\n",
    "        \n",
    "        tensors.append(\n",
    "            opt.Tensor('ZZ', indices=(out_vars[-1], mid_vars[-1]), data=get_data_zz(gamma[p-i-1]) )\n",
    "        )\n",
    "        tensors.append(\n",
    "            opt.Tensor('ZZ+', indices=(out_vars[-2], mid_vars[-2]), data=get_data_zz(gamma[p-i-1]).T.conjugate())\n",
    "        )\n",
    "        print('p-', p-i-1)\n",
    "        \n",
    "    xconj = get_data_x(beta[0]).T.conjugate()[0]\n",
    "    tensors.append(\n",
    "        opt.Tensor('X+', indices=(mid_vars[-2], ), data=xconj)\n",
    "    )\n",
    "    tensors.append(\n",
    "        opt.Tensor('X', indices=(mid_vars[-1], ), data=get_data_x(beta[0])[0] )\n",
    "    )\n",
    "    in_vars = mid_vars[2:]\n",
    "    return tensors, out_vars, in_vars\n",
    "        \n",
    "    "
   ]
  },
  {
   "cell_type": "code",
   "execution_count": 396,
   "id": "9770daa6",
   "metadata": {},
   "outputs": [],
   "source": [
    "p = 3\n",
    "gamma = [0.1]*p\n",
    "beta  = [0.2]*p"
   ]
  },
  {
   "cell_type": "code",
   "execution_count": 397,
   "id": "dfe18aff",
   "metadata": {},
   "outputs": [
    {
     "name": "stdout",
     "output_type": "stream",
     "text": [
      "mid var [v_3, v_3, v_2, v_4]\n",
      "oupt var [o_8, o_9, o_7, o_10]\n",
      "p- 1\n",
      "mid var [v_3, v_3, v_2, v_4, v_1, v_5]\n",
      "oupt var [o_8, o_9, o_7, o_10, o_6, o_11]\n",
      "p- 0\n"
     ]
    },
    {
     "data": {
      "text/plain": [
       "[ZZ(o_8,v_3),\n",
       " ZZ+(o_9,v_3),\n",
       " X(v_3,v_4),\n",
       " X+(v_3,v_2),\n",
       " ZZ(o_10,v_4),\n",
       " ZZ+(o_7,v_2),\n",
       " X(v_4,v_5),\n",
       " X+(v_2,v_1),\n",
       " ZZ(o_11,v_5),\n",
       " ZZ+(o_6,v_1),\n",
       " X+(v_1),\n",
       " X(v_5)]"
      ]
     },
     "execution_count": 397,
     "metadata": {},
     "output_type": "execute_result"
    }
   ],
   "source": [
    "tensors, out_vars, in_vars = get_tn(p=3, gamma=gamma, beta=beta)\n",
    "tensors"
   ]
  },
  {
   "cell_type": "code",
   "execution_count": 394,
   "id": "f54e8850",
   "metadata": {},
   "outputs": [
    {
     "data": {
      "image/png": "[encoded data removed]",
      "text/plain": [
       "<Figure size 432x288 with 1 Axes>"
      ]
     },
     "metadata": {},
     "output_type": "display_data"
    }
   ],
   "source": [
    "dual_hg = { t.name+str(hex(id(t))): t.indices for t in tensors }\n",
    "hg = TN.dual_hg(dual_hg)\n",
    "draw_hypergraph(hg, with_labels=True)"
   ]
  },
  {
   "cell_type": "code",
   "execution_count": null,
   "id": "5966bd17",
   "metadata": {},
   "outputs": [],
   "source": [
    "def contract_path(gamma, beta):\n",
    "    p = len(gamma)\n",
    "    for i in range(p):\n",
    "        tensors, out_vars, in_vars = gen_tn(i, gamma=gamma, beta=beta)\n",
    "    \n",
    "    "
   ]
  },
  {
   "cell_type": "code",
   "execution_count": null,
   "id": "3fd337f3",
   "metadata": {},
   "outputs": [],
   "source": []
  },
  {
   "cell_type": "code",
   "execution_count": null,
   "id": "defd82f7",
   "metadata": {},
   "outputs": [],
   "source": []
  },
  {
   "cell_type": "code",
   "execution_count": null,
   "id": "44e1dda4",
   "metadata": {},
   "outputs": [],
   "source": []
  }
 ],
 "metadata": {
  "kernelspec": {
   "display_name": "Python 3 (ipykernel)",
   "language": "python",
   "name": "python3"
  },
  "language_info": {
   "codemirror_mode": {
    "name": "ipython",
    "version": 3
   },
   "file_extension": ".py",
   "mimetype": "text/x-python",
   "name": "python",
   "nbconvert_exporter": "python",
   "pygments_lexer": "ipython3",
   "version": "3.9.6"
  }
 },
 "nbformat": 4,
 "nbformat_minor": 5
}
